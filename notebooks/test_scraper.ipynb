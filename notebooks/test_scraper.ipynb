{
 "cells": [
  {
   "cell_type": "code",
   "execution_count": 6,
   "id": "99d86665-3f3f-484f-bb0f-f26d3f5a04a4",
   "metadata": {},
   "outputs": [],
   "source": [
    "import os\n",
    "import pandas as pd\n",
    "import requests\n",
    "import zipfile \n",
    "import re\n",
    "from bs4 import BeautifulSoup"
   ]
  },
  {
   "cell_type": "code",
   "execution_count": 16,
   "id": "cedfa604-16ed-47de-bb2f-18a9cd8bf05e",
   "metadata": {},
   "outputs": [],
   "source": [
    "r = requests.get('https://download.cms.gov/nppes/NPI_Files.html')"
   ]
  },
  {
   "cell_type": "code",
   "execution_count": 5,
   "id": "b6979bd3-8d1c-4697-9996-1a04a751e9c5",
   "metadata": {},
   "outputs": [
    {
     "data": {
      "text/plain": [
       "'<!DOCTYPE html PUBLIC \"-//W3C//DTD HTML 4.01 Transitional//EN\" \"http://www.w3c.org/TR/1999/REC-html401-19991224/loose.dtd\">\\n<!DOCTYPE html PUBLIC \"-//W3C//DTD HTML 4.01 Transitional//EN\" \"http://www.w3.org/TR/html4/loose.dtd\">\\n<style type=\"text/css\">\\n\\t.pStyle{\\n\\t\\tpadding-left: 20px; margin: 0px;\\n\\t}\\n    a:hover {\\n\\tcolor: rgb(255, 120, 0); text-decoration: underline;\\n    }\\n    .mainbox {\\n\\tmargin: 0px 0.5em; padding: 0px; border: 1px solid currentColor; font-family: \"Lucida Grande\", Verdana, Arial, Helvetica, sans-serif; font-size: 1em;\\n    }\\n    .mainbox h2 {\\n\\tpadding-left: 5px; font-size: 1em; margin:5px 0px 30px 0px;\\n\\t}\\n    .header-background {\\n\\tbackground-image: url(\\'images/Top_Banner1A.png\\'); background-position: center; background-size: contain; height: 44px; align-items: center; display: flex; justify-content: flex-start; margin-top: 15px;\\n\\t}\\n    .header-background h1 {\\n\\tfont-size: 2em; color: white; font-family: \"Georgia\"; font-weight: normal;\\n    }\\n    .content-bulletlist ul {\\n\\tlist-style: none; margin: 0px 0.7em; padding-left: 5px; position: relative; top: -13px;\\n    }\\n    .content-bulletlist li {\\n\\tbackground-position: 0px 0.3em; margin: 2em 0px; padding-left: 1.1em; list-style: none; white-space: nowrap; overflow: hidden; font-size: 0.8em;\\n    }\\n    .npi-file-list li {\\n\\tbackground-position: 0px 0.3em; margin: 0.25em 3px; padding-left: 1.2em; \\n    }\\n    .npi-file-list ul{\\n\\tpadding-left: 10px; font-size: 1em; margin:5px 0px 30px 0px; position: relative; top: -13px;\\n    }\\n    .npi-file-list ol {\\n\\tbackground-position: 0px 0.3em; margin: 0.25em 3px; padding-left: 3.5em; \\n    }\\n    \\n\\n</style>\\n<html>\\n<head>\\n\\t<meta content=\"IE=11.0000\" http-equiv=\"X-UA-Compatible\">\\n\\t<meta http-equiv=\"Content-Type\" content=\"text/html; charset=ISO-8859-1\">\\n\\t<meta http-equiv=\"Cache-Control\" content=\"no-cache, no-store, must-revalidate\">\\n\\t<meta http-equiv=\"Pragma\" content=\"no-cache\">\\n\\t<meta http-equiv=\"Expires\" content=\"0\">\\n\\t<title>NPI Files</title>\\t \\n\\t<link href=\"css/screen1.css\" rel=\"stylesheet\" type=\"text/css\"> \\n\\t<meta name=\"GENERATOR\" content=\"MSHTML 11.00.9600.19377\">\\n    \\n</head>\\n<body>\\n    \\n    <header class=\"header-background\">\\n        <h1 tabindex=\"0\" id=\"npi-files\">NPI Files</h1>\\n    </header>\\n    <br>\\n\\t<div class=\"mainbox\">\\n        <p><a href=\"#main-content\" style=\"border-left-width: 0px; display: none;\">Content Section</a></p>\\n        <div id=\"main-content\" aria-labelledby=\"Important-info\" tabindex=\"0\">\\n            <h2 style=\"position: relative; top: -13px;\" id=\"Important-info\">Important Information:</h2>\\n        </div>\\n\\n        <div class=\"content-bulletlist\">\\n        <ul>\\n            <p tabindex=\"0\"><strong>Effective 12/24/2024</strong> NPPES will be updating the maximum field lengths for First Name, Legal Business Name, and all related fields. NPPES will be updating the data dissemination files to now include two separate versions:</p>\\n            <p tabindex=\"0\" class=\"pStyle\"><strong>Version 1:</strong>This version will include all original field lengths.</p>\\n            <br>\\n            <p class=\"pStyle\" tabindex=\"0\"><strong>Version 2 (V.2):</strong>This version will include all updated field lengths, with extended character limits for First Name and Legal Business Name fields.</p>\\n        </ul>\\n        </div>\\n       \\n\\n        <div class=\"npi-file-list\">\\n         <ul>   \\n                <h2 tabindex=\"0\" style=\"margin-top:18px;\"><strong>Each zipped NPPES Downloadable file will include the following 3 reference files:</strong></h2>\\n                <ol>\\n                    <li tabindex=\"0\"><strong>Other Name Reference File - </strong> this file contains additional Other Names associated with Type 2 NPIs.</li>\\n                    <li tabindex=\"0\"><strong>Practice Location Reference File - </strong>this file contains all the non-primary Practice Locations associated with Type 1 and Type 2 NPIs.</li>\\n                    <li tabindex=\"0\"><strong>Endpoint Reference File - </strong> this file contains all Endpoints associated with Type 1 and Type 2 NPIs.</li>\\n                </ol>\\n            <p tabindex=\"0\" style=\"padding-left: 5px;\">Detailed information about the NPI files is included in the Data Dissemination File - Readme file.</p>\\n         <ul>   \\n        </div>\\n\\n        <div class=\"content-bulletlist\">\\n            <ul> \\n                <p tabindex=\"0\"><strong>If you have any questions, contact CMS at <a href=\"mailto:NPIFiles@cms.hhs.gov.\" aria-label=\"NPIFiles@cms.hhs.gov\">NPIFiles@cms.hhs.gov</a>.</strong></p>\\n                <p tabindex=\"0\"><span style=\"text-decoration: underline;\">Please Note:</span> Issuance of an NPI does not ensure or validate that the Health Care Provider is Licensed or Credentialed. For more information, please refer to <a href=\"https://www.cms.gov/Outreach-and-Education/Medicare-Learning-Network-MLN/MLNProducts/Downloads/NPI-What-You-Need-To-Know.pdf\" target=\"_blank\" aria-label=\"NPI What You Need to know\">NPI: What You Need to Know</a>.</p>\\n            </ul>\\n        </div> \\n        \\n        <div class=\"content-bulletlist\">\\n            <div style=\"display: grid; grid-template-columns: 0.6fr auto 1fr;gap:8px;\">\\n                \\n                <div class=\"version-content\">\\n\\n                <div style=\"padding-left: 10px;\" aria-labelledby=\"monthy-v1\">\\n                    <h2 tabindex=\"0\" id=\"monthly-v1\">Monthly NPPES Downloadable File Version 1</h2>\\n\\t\\t\\t\\t\\t\\t\\t\\t<li tabindex=\\'0\\'><a id=\\'DDSMTH.ZIP.D\\' href=\\'./NPPES_Data_Dissemination_March_2025.zip\\' aria-label=\\'NPPES Data Dissemination (March 10, 2025)\\'>NPPES Data Dissemination (March 10, 2025)</a> - ZIP format (995.23 MB)</li>\\n\\n\\t\\t\\t\\t\\t</ul>\\n                </div>\\n    \\n                <div style=\"padding-left: 10px;\" aria-labelledby=\"monthy-npi-deactivation-v1\">\\n                    <h2 tabindex=\"0\" id=\"monthy-npi-deactivation-v1\">Monthly NPI Deactivation File Version 1</h2>\\n\\t\\t\\t\\t\\t\\t\\t\\t<li tabindex=\\'0\\'><a id=\\'DDSDEACTIVATEMTH.ZIP.D\\' href=\\'./NPPES_Deactivated_NPI_Report_031025.zip\\' aria-label=\\'NPPES Data Dissemination - Monthly Deactivation Update - March 10, 2025\\'>NPPES Data Dissemination - Monthly Deactivation Update - March 10, 2025</a> - ZIP format (2,223 KB)</li>\\n\\n                    </ul>\\n                </div>\\n\\n                <div style=\"padding-left: 10px;\" aria-labelledby=\"weekly-incremental-npi-v1\">\\n                    <h2 tabindex=\"0\" id=\"weekly-incremental-npi-v1\">Weekly Incremental NPI Files Version 1</h2>\\n\\t\\t\\t\\t\\t\\t\\t\\t<li tabindex=\\'0\\'><a id=\\'DDSWKLY.ZIP.D\\' href=\\'./NPPES_Data_Dissemination_030325_030925_Weekly.zip\\' aria-label=\\'NPPES Data Dissemination - Weekly Update - 030325_030925\\'>NPPES Data Dissemination - Weekly Update - 030325_030925</a> - ZIP format (6.71 MB)</li>\\n\\t\\t\\t\\t\\t\\t\\t\\t<li tabindex=\\'0\\'><a id=\\'DDSWKLY.ZIP.D\\' href=\\'./NPPES_Data_Dissemination_031025_031625_Weekly.zip\\' aria-label=\\'NPPES Data Dissemination - Weekly Update - 031025_031625\\'>NPPES Data Dissemination - Weekly Update - 031025_031625</a> - ZIP format (6.71 MB)</li>\\n\\n\\t\\t\\t\\t\\t</ul>\\n                </div>\\n                </div>\\n\\n                \\n                <div style=\"width: 0.5px; background-color: black; margin: 0 20px; height: 100%;\" aria-label=\"content-separator\"></div>\\n    \\n                <div style=\"margin-left:-20px;\">\\n                \\n                 <div style=\"padding-left: 10px;\" aria-labelledby=\"monthy-v2\">\\n                    <h2 tabindex=\"0\" id=\"monthy-v2\">Monthly NPPES Downloadable File Version 2 (V.2)</h2>\\n\\t\\t\\t\\t\\t\\t\\t\\t<li tabindex=\\'0\\'><a id=\\'DDSMTH.ZIP.D\\' href=\\'./NPPES_Data_Dissemination_March_2025_V2.zip\\' aria-label=\\'NPPES Data Dissemination V.2 (March 10, 2025)\\'>NPPES Data Dissemination V.2 (March 10, 2025)</a> - ZIP format (996.79 MB)</li>\\n\\n                    </ul>\\n                </div>\\n\\n                <div style=\"padding-left: 10px;\" aria-labelledby=\"monthy-npi-deactivation-v2\">\\n                    <h2 tabindex=\"0\" id=\"monthy-npi-deactivation-v2\">Monthly NPI Deactivation File Version 2 (V.2)</h2>\\n\\t\\t\\t\\t\\t\\t\\t\\t<li tabindex=\\'0\\'><a id=\\'DDSDEACTIVATEMTH.ZIP.D\\' href=\\'./NPPES_Deactivated_NPI_Report_031025_V2.zip\\' aria-label=\\'NPPES Data Dissemination V.2 - Monthly Deactivation Update - March 10, 2025\\'>NPPES Data Dissemination V.2 - Monthly Deactivation Update - March 10, 2025</a> - ZIP format (2,227 KB)</li>\\n                          \\n                    </ul>\\n                </div>\\n\\n                <div style=\"padding-left: 10px;\" aria-labelledby=\"weekly-incremental-npi-v2\">\\n                    <h2 tabindex=\"0\" id=\"weekly-incremental-npi-v2\">Weekly Incremental NPI Files Version 2 (V.2)</h2>\\n\\t\\t\\t\\t\\t\\t\\t\\t<li tabindex=\\'0\\'><a id=\\'DDSWKLY.ZIP.D\\' href=\\'./NPPES_Data_Dissemination_030325_030925_Weekly_V2.zip\\' aria-label=\\'NPPES Data Dissemination V.2 - Weekly Update - 030325_030925\\'>NPPES Data Dissemination V.2 - Weekly Update - 030325_030925</a> - ZIP format (8.27 MB)</li>\\n\\t\\t\\t\\t\\t\\t\\t\\t<li tabindex=\\'0\\'><a id=\\'DDSWKLY.ZIP.D\\' href=\\'./NPPES_Data_Dissemination_031025_031625_Weekly_V2.zip\\' aria-label=\\'NPPES Data Dissemination V.2 - Weekly Update - 031025_031625\\'>NPPES Data Dissemination V.2 - Weekly Update - 031025_031625</a> - ZIP format (8.27 MB)</li>\\n                     \\n                    </ul>\\n                </div>\\n\\n                </div>\\n\\n            </div>\\n            <a href=\"https://nppes.cms.hhs.gov/NppesSubscription/subscribe\" aria-label=\"Subscribe to Data Dissemination Files updates\" target=\"_blank\">\\n                <img src=\"images/subscribe.png\" alt=\"Subscribe to receive Data Dissemination Files updates\">\\n                <p tabindex=\"0\"><b>Subscribe to receive Data Dissemination Files related updates.</b></p>\\n            </a>\\n        </div>\\n            \\n    </div>\\n\\n</body>\\n</html> \\n'"
      ]
     },
     "execution_count": 5,
     "metadata": {},
     "output_type": "execute_result"
    }
   ],
   "source": [
    "r.text"
   ]
  },
  {
   "cell_type": "code",
   "execution_count": 10,
   "id": "ebb4f6c1-3c9d-4e6b-9f2d-36df39f6a558",
   "metadata": {},
   "outputs": [
    {
     "name": "stdout",
     "output_type": "stream",
     "text": [
      "NPPES_Data_Dissemination_March_2025.zip\n",
      "NPPES_Deactivated_NPI_Report_031025.zip\n",
      "NPPES_Data_Dissemination_030325_030925_Weekly.zip\n",
      "NPPES_Data_Dissemination_031025_031625_Weekly.zip\n",
      "NPPES_Data_Dissemination_March_2025_V2.zip\n",
      "NPPES_Deactivated_NPI_Report_031025_V2.zip\n",
      "NPPES_Data_Dissemination_030325_030925_Weekly_V2.zip\n",
      "NPPES_Data_Dissemination_031025_031625_Weekly_V2.zip\n"
     ]
    }
   ],
   "source": [
    "soup = BeautifulSoup(r.text, 'html.parser')\n",
    "\n",
    "# Find all zips\n",
    "links = soup.find_all(href=True)\n",
    "href_values = [os.path.basename(link['href']) for link in links if link['href'][-3:] == 'zip']\n",
    "\n",
    "for href in href_values:\n",
    "    print(href)"
   ]
  },
  {
   "cell_type": "code",
   "execution_count": 11,
   "id": "4c6163a0-813d-41fc-8e1e-e96217e7a024",
   "metadata": {},
   "outputs": [],
   "source": [
    "base_url = 'https://download.cms.gov/nppes/'\n",
    "\n",
    "# now concat them to basepath and configurte output folder\n",
    "outdir = '../data/'\n",
    "if not os.path.isdir(outdir):\n",
    "    os.mkdir(outdir)\n"
   ]
  },
  {
   "cell_type": "code",
   "execution_count": 19,
   "id": "08cc57ba-5265-45b6-8d9e-5d18b08d8770",
   "metadata": {},
   "outputs": [],
   "source": [
    "# grab the last one as a test and save it to outidr. just loop through and save them.\n",
    "# again not sure what struture you want and also at this point the files inside the zips could prob be condensed and reformmatted.\n",
    "# The monthly file is huge so might need to do some delta reconcilation as you don't want to download the monthly file every day or week\n",
    "r2 = requests.get(os.path.join(base_url, href_values[-1]))\n",
    "filename = os.path.join(outdir, href_values[-1])\n",
    "with open(filename, 'wb') as f:  \n",
    "    f.write(r2.content)"
   ]
  },
  {
   "cell_type": "code",
   "execution_count": null,
   "id": "3c6cd371-e493-4b73-be3b-b7c69a7de3e3",
   "metadata": {},
   "outputs": [],
   "source": []
  },
  {
   "cell_type": "code",
   "execution_count": null,
   "id": "44461ed6-cde2-46ce-b30f-cb2e08f94013",
   "metadata": {},
   "outputs": [],
   "source": []
  }
 ],
 "metadata": {
  "kernelspec": {
   "display_name": "Python 3 (ipykernel)",
   "language": "python",
   "name": "python3"
  },
  "language_info": {
   "codemirror_mode": {
    "name": "ipython",
    "version": 3
   },
   "file_extension": ".py",
   "mimetype": "text/x-python",
   "name": "python",
   "nbconvert_exporter": "python",
   "pygments_lexer": "ipython3",
   "version": "3.9.12"
  }
 },
 "nbformat": 4,
 "nbformat_minor": 5
}
