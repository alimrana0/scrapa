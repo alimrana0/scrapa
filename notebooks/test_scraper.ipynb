{
 "cells": [
  {
   "cell_type": "code",
   "execution_count": 2,
   "id": "99d86665-3f3f-484f-bb0f-f26d3f5a04a4",
   "metadata": {},
   "outputs": [],
   "source": [
    "import os\n",
    "import pandas as pd\n",
    "import requests\n",
    "import zipfile \n",
    "import re\n",
    "from bs4 import BeautifulSoup"
   ]
  },
  {
   "cell_type": "code",
   "execution_count": 3,
   "id": "cedfa604-16ed-47de-bb2f-18a9cd8bf05e",
   "metadata": {},
   "outputs": [],
   "source": [
    "r = requests.get('https://download.cms.gov/nppes/NPI_Files.html')"
   ]
  },
  {
   "cell_type": "code",
   "execution_count": 4,
   "id": "b6979bd3-8d1c-4697-9996-1a04a751e9c5",
   "metadata": {},
   "outputs": [
    {
     "data": {
      "text/plain": [
       "'<!DOCTYPE html PUBLIC \"-//W3C//DTD HTML 4.01 Transitional//EN\" \"http://www.w3c.org/TR/1999/REC-html401-19991224/loose.dtd\">\\n<!DOCTYPE html PUBLIC \"-//W3C//DTD HTML 4.01 Transitional//EN\" \"http://www.w3.org/TR/html4/loose.dtd\">\\n<style type=\"text/css\">\\n\\t.pStyle{\\n\\t\\tpadding-left: 20px; margin: 0px;\\n\\t}\\n    a:hover {\\n\\tcolor: rgb(255, 120, 0); text-decoration: underline;\\n    }\\n    .mainbox {\\n\\tmargin: 0px 0.5em; padding: 0px; border: 1px solid currentColor; font-family: \"Lucida Grande\", Verdana, Arial, Helvetica, sans-serif; font-size: 1em;\\n    }\\n    .mainbox h2 {\\n\\tpadding-left: 5px; font-size: 1em; margin:5px 0px 30px 0px;\\n\\t}\\n    .header-background {\\n\\tbackground-image: url(\\'images/Top_Banner1A.png\\'); background-position: center; background-size: contain; height: 44px; align-items: center; display: flex; justify-content: flex-start; margin-top: 15px;\\n\\t}\\n    .header-background h1 {\\n\\tfont-size: 2em; color: white; font-family: \"Georgia\"; font-weight: normal;\\n    }\\n    .content-bulletlist ul {\\n\\tlist-style: none; margin: 0px 0.7em; padding-left: 5px; position: relative; top: -13px;\\n    }\\n    .content-bulletlist li {\\n\\tbackground-position: 0px 0.3em; margin: 2em 0px; padding-left: 1.1em; list-style: none; white-space: nowrap; overflow: hidden; font-size: 0.8em;\\n    }\\n    .npi-file-list li {\\n\\tbackground-position: 0px 0.3em; margin: 0.25em 3px; padding-left: 1.2em; \\n    }\\n    .npi-file-list ul{\\n\\tpadding-left: 10px; font-size: 1em; margin:5px 0px 30px 0px; position: relative; top: -13px;\\n    }\\n    .npi-file-list ol {\\n\\tbackground-position: 0px 0.3em; margin: 0.25em 3px; padding-left: 3.5em; \\n    }\\n    \\n\\n</style>\\n<html>\\n<head>\\n\\t<meta content=\"IE=11.0000\" http-equiv=\"X-UA-Compatible\">\\n\\t<meta http-equiv=\"Content-Type\" content=\"text/html; charset=ISO-8859-1\">\\n\\t<meta http-equiv=\"Cache-Control\" content=\"no-cache, no-store, must-revalidate\">\\n\\t<meta http-equiv=\"Pragma\" content=\"no-cache\">\\n\\t<meta http-equiv=\"Expires\" content=\"0\">\\n\\t<title>NPI Files</title>\\t \\n\\t<link href=\"css/screen1.css\" rel=\"stylesheet\" type=\"text/css\"> \\n\\t<meta name=\"GENERATOR\" content=\"MSHTML 11.00.9600.19377\">\\n    \\n</head>\\n<body>\\n    \\n    <header class=\"header-background\">\\n        <h1 tabindex=\"0\" id=\"npi-files\">NPI Files</h1>\\n    </header>\\n    <br>\\n\\t<div class=\"mainbox\">\\n        <p><a href=\"#main-content\" style=\"border-left-width: 0px; display: none;\">Content Section</a></p>\\n        <div id=\"main-content\" aria-labelledby=\"Important-info\" tabindex=\"0\">\\n            <h2 style=\"position: relative; top: -13px;\" id=\"Important-info\">Important Information:</h2>\\n        </div>\\n\\n        <div class=\"content-bulletlist\">\\n        <ul>\\n            <p tabindex=\"0\"><strong>Effective 12/24/2024</strong> NPPES will be updating the maximum field lengths for First Name, Legal Business Name, and all related fields. NPPES will be updating the data dissemination files to now include two separate versions:</p>\\n            <p tabindex=\"0\" class=\"pStyle\"><strong>Version 1:</strong>This version will include all original field lengths.</p>\\n            <br>\\n            <p class=\"pStyle\" tabindex=\"0\"><strong>Version 2 (V.2):</strong>This version will include all updated field lengths, with extended character limits for First Name and Legal Business Name fields.</p>\\n        </ul>\\n        </div>\\n       \\n\\n        <div class=\"npi-file-list\">\\n         <ul>   \\n                <h2 tabindex=\"0\" style=\"margin-top:18px;\"><strong>Each zipped NPPES Downloadable file will include the following 3 reference files:</strong></h2>\\n                <ol>\\n                    <li tabindex=\"0\"><strong>Other Name Reference File - </strong> this file contains additional Other Names associated with Type 2 NPIs.</li>\\n                    <li tabindex=\"0\"><strong>Practice Location Reference File - </strong>this file contains all the non-primary Practice Locations associated with Type 1 and Type 2 NPIs.</li>\\n                    <li tabindex=\"0\"><strong>Endpoint Reference File - </strong> this file contains all Endpoints associated with Type 1 and Type 2 NPIs.</li>\\n                </ol>\\n            <p tabindex=\"0\" style=\"padding-left: 5px;\">Detailed information about the NPI files is included in the Data Dissemination File - Readme file.</p>\\n         <ul>   \\n        </div>\\n\\n        <div class=\"content-bulletlist\">\\n            <ul> \\n                <p tabindex=\"0\"><strong>If you have any questions, contact CMS at <a href=\"mailto:NPIFiles@cms.hhs.gov.\" aria-label=\"NPIFiles@cms.hhs.gov\">NPIFiles@cms.hhs.gov</a>.</strong></p>\\n                <p tabindex=\"0\"><span style=\"text-decoration: underline;\">Please Note:</span> Issuance of an NPI does not ensure or validate that the Health Care Provider is Licensed or Credentialed. For more information, please refer to <a href=\"https://www.cms.gov/Outreach-and-Education/Medicare-Learning-Network-MLN/MLNProducts/Downloads/NPI-What-You-Need-To-Know.pdf\" target=\"_blank\" aria-label=\"NPI What You Need to know\">NPI: What You Need to Know</a>.</p>\\n            </ul>\\n        </div> \\n        \\n        <div class=\"content-bulletlist\">\\n            <div style=\"display: grid; grid-template-columns: 0.6fr auto 1fr;gap:8px;\">\\n                \\n                <div class=\"version-content\">\\n\\n                <div style=\"padding-left: 10px;\" aria-labelledby=\"monthy-v1\">\\n                    <h2 tabindex=\"0\" id=\"monthly-v1\">Monthly NPPES Downloadable File Version 1</h2>\\n\\t\\t\\t\\t\\t\\t\\t\\t<li tabindex=\\'0\\'><a id=\\'DDSMTH.ZIP.D\\' href=\\'./NPPES_Data_Dissemination_March_2025.zip\\' aria-label=\\'NPPES Data Dissemination (March 10, 2025)\\'>NPPES Data Dissemination (March 10, 2025)</a> - ZIP format (995.23 MB)</li>\\n\\n\\t\\t\\t\\t\\t</ul>\\n                </div>\\n    \\n                <div style=\"padding-left: 10px;\" aria-labelledby=\"monthy-npi-deactivation-v1\">\\n                    <h2 tabindex=\"0\" id=\"monthy-npi-deactivation-v1\">Monthly NPI Deactivation File Version 1</h2>\\n\\t\\t\\t\\t\\t\\t\\t\\t<li tabindex=\\'0\\'><a id=\\'DDSDEACTIVATEMTH.ZIP.D\\' href=\\'./NPPES_Deactivated_NPI_Report_031025.zip\\' aria-label=\\'NPPES Data Dissemination - Monthly Deactivation Update - March 10, 2025\\'>NPPES Data Dissemination - Monthly Deactivation Update - March 10, 2025</a> - ZIP format (2,223 KB)</li>\\n\\n                    </ul>\\n                </div>\\n\\n                <div style=\"padding-left: 10px;\" aria-labelledby=\"weekly-incremental-npi-v1\">\\n                    <h2 tabindex=\"0\" id=\"weekly-incremental-npi-v1\">Weekly Incremental NPI Files Version 1</h2>\\n\\t\\t\\t\\t\\t\\t\\t\\t<li tabindex=\\'0\\'><a id=\\'DDSWKLY.ZIP.D\\' href=\\'./NPPES_Data_Dissemination_030325_030925_Weekly.zip\\' aria-label=\\'NPPES Data Dissemination - Weekly Update - 030325_030925\\'>NPPES Data Dissemination - Weekly Update - 030325_030925</a> - ZIP format (6.71 MB)</li>\\n\\t\\t\\t\\t\\t\\t\\t\\t<li tabindex=\\'0\\'><a id=\\'DDSWKLY.ZIP.D\\' href=\\'./NPPES_Data_Dissemination_031025_031625_Weekly.zip\\' aria-label=\\'NPPES Data Dissemination - Weekly Update - 031025_031625\\'>NPPES Data Dissemination - Weekly Update - 031025_031625</a> - ZIP format (6.71 MB)</li>\\n\\n\\t\\t\\t\\t\\t</ul>\\n                </div>\\n                </div>\\n\\n                \\n                <div style=\"width: 0.5px; background-color: black; margin: 0 20px; height: 100%;\" aria-label=\"content-separator\"></div>\\n    \\n                <div style=\"margin-left:-20px;\">\\n                \\n                 <div style=\"padding-left: 10px;\" aria-labelledby=\"monthy-v2\">\\n                    <h2 tabindex=\"0\" id=\"monthy-v2\">Monthly NPPES Downloadable File Version 2 (V.2)</h2>\\n\\t\\t\\t\\t\\t\\t\\t\\t<li tabindex=\\'0\\'><a id=\\'DDSMTH.ZIP.D\\' href=\\'./NPPES_Data_Dissemination_March_2025_V2.zip\\' aria-label=\\'NPPES Data Dissemination V.2 (March 10, 2025)\\'>NPPES Data Dissemination V.2 (March 10, 2025)</a> - ZIP format (996.79 MB)</li>\\n\\n                    </ul>\\n                </div>\\n\\n                <div style=\"padding-left: 10px;\" aria-labelledby=\"monthy-npi-deactivation-v2\">\\n                    <h2 tabindex=\"0\" id=\"monthy-npi-deactivation-v2\">Monthly NPI Deactivation File Version 2 (V.2)</h2>\\n\\t\\t\\t\\t\\t\\t\\t\\t<li tabindex=\\'0\\'><a id=\\'DDSDEACTIVATEMTH.ZIP.D\\' href=\\'./NPPES_Deactivated_NPI_Report_031025_V2.zip\\' aria-label=\\'NPPES Data Dissemination V.2 - Monthly Deactivation Update - March 10, 2025\\'>NPPES Data Dissemination V.2 - Monthly Deactivation Update - March 10, 2025</a> - ZIP format (2,227 KB)</li>\\n                          \\n                    </ul>\\n                </div>\\n\\n                <div style=\"padding-left: 10px;\" aria-labelledby=\"weekly-incremental-npi-v2\">\\n                    <h2 tabindex=\"0\" id=\"weekly-incremental-npi-v2\">Weekly Incremental NPI Files Version 2 (V.2)</h2>\\n\\t\\t\\t\\t\\t\\t\\t\\t<li tabindex=\\'0\\'><a id=\\'DDSWKLY.ZIP.D\\' href=\\'./NPPES_Data_Dissemination_030325_030925_Weekly_V2.zip\\' aria-label=\\'NPPES Data Dissemination V.2 - Weekly Update - 030325_030925\\'>NPPES Data Dissemination V.2 - Weekly Update - 030325_030925</a> - ZIP format (8.27 MB)</li>\\n\\t\\t\\t\\t\\t\\t\\t\\t<li tabindex=\\'0\\'><a id=\\'DDSWKLY.ZIP.D\\' href=\\'./NPPES_Data_Dissemination_031025_031625_Weekly_V2.zip\\' aria-label=\\'NPPES Data Dissemination V.2 - Weekly Update - 031025_031625\\'>NPPES Data Dissemination V.2 - Weekly Update - 031025_031625</a> - ZIP format (8.27 MB)</li>\\n                     \\n                    </ul>\\n                </div>\\n\\n                </div>\\n\\n            </div>\\n            <a href=\"https://nppes.cms.hhs.gov/NppesSubscription/subscribe\" aria-label=\"Subscribe to Data Dissemination Files updates\" target=\"_blank\">\\n                <img src=\"images/subscribe.png\" alt=\"Subscribe to receive Data Dissemination Files updates\">\\n                <p tabindex=\"0\"><b>Subscribe to receive Data Dissemination Files related updates.</b></p>\\n            </a>\\n        </div>\\n            \\n    </div>\\n\\n</body>\\n</html> \\n'"
      ]
     },
     "execution_count": 4,
     "metadata": {},
     "output_type": "execute_result"
    }
   ],
   "source": [
    "r.text"
   ]
  },
  {
   "cell_type": "code",
   "execution_count": 5,
   "id": "ebb4f6c1-3c9d-4e6b-9f2d-36df39f6a558",
   "metadata": {},
   "outputs": [
    {
     "name": "stdout",
     "output_type": "stream",
     "text": [
      "NPPES_Data_Dissemination_March_2025.zip\n",
      "NPPES_Deactivated_NPI_Report_031025.zip\n",
      "NPPES_Data_Dissemination_030325_030925_Weekly.zip\n",
      "NPPES_Data_Dissemination_031025_031625_Weekly.zip\n",
      "NPPES_Data_Dissemination_March_2025_V2.zip\n",
      "NPPES_Deactivated_NPI_Report_031025_V2.zip\n",
      "NPPES_Data_Dissemination_030325_030925_Weekly_V2.zip\n",
      "NPPES_Data_Dissemination_031025_031625_Weekly_V2.zip\n"
     ]
    }
   ],
   "source": [
    "soup = BeautifulSoup(r.text, 'html.parser')\n",
    "\n",
    "# Find all zips\n",
    "links = soup.find_all(href=True)\n",
    "href_values = [os.path.basename(link['href']) for link in links if link['href'][-3:] == 'zip']\n",
    "\n",
    "for href in href_values:\n",
    "    print(href)"
   ]
  },
  {
   "cell_type": "code",
   "execution_count": 6,
   "id": "4c6163a0-813d-41fc-8e1e-e96217e7a024",
   "metadata": {},
   "outputs": [],
   "source": [
    "base_url = 'https://download.cms.gov/nppes/'\n",
    "\n",
    "# now concat them to basepath and configurte output folder\n",
    "outdir = '../data/'\n",
    "if not os.path.isdir(outdir):\n",
    "    os.mkdir(outdir)\n"
   ]
  },
  {
   "cell_type": "code",
   "execution_count": 25,
   "id": "08cc57ba-5265-45b6-8d9e-5d18b08d8770",
   "metadata": {},
   "outputs": [],
   "source": [
    "# grab the last one as a test and save it to outidr. just loop through and save them.\n",
    "# again not sure what struture you want and also at this point the files inside the zips could prob be condensed and reformmatted.\n",
    "# The monthly file is huge so might need to do some delta reconcilation as you don't want to download the monthly file every day or week\n",
    "r2 = requests.get(os.path.join(base_url, href_values[-2]))\n",
    "filename = os.path.join(outdir, href_values[-2])\n",
    "with open(filename, 'wb') as f:  \n",
    "    f.write(r2.content)"
   ]
  },
  {
   "cell_type": "code",
   "execution_count": 26,
   "id": "3c6cd371-e493-4b73-be3b-b7c69a7de3e3",
   "metadata": {},
   "outputs": [],
   "source": [
    "# Extract the zip file\n",
    "with zipfile.ZipFile(filename, 'r') as zip_ref:\n",
    "    # List all files in the zip\n",
    "    extracted_files = zip_ref.namelist()\n",
    "\n",
    "    # Filter for CSV files\n",
    "    csv_files = [file for file in extracted_files if file.endswith('.csv')]\n",
    "\n",
    "    # Find the largest CSV file by comparing file sizes\n",
    "    largest_csv_file = max(csv_files, key=lambda file: zip_ref.getinfo(file).file_size)"
   ]
  },
  {
   "cell_type": "code",
   "execution_count": 29,
   "id": "44461ed6-cde2-46ce-b30f-cb2e08f94013",
   "metadata": {},
   "outputs": [
    {
     "name": "stderr",
     "output_type": "stream",
     "text": [
      "C:\\Users\\alima\\AppData\\Local\\Temp\\ipykernel_15964\\3049641098.py:12: DtypeWarning: Columns (17,24,32,68,75,76,77,78,79,80,81,82,83,84,85,86,87,88,89,90,91,92,93,94,95,96,97,98,99,100,101,102,103,104,105,106,123,127,131,133,134,135,137,138,139,141,142,143,145,146,147,149,150,151,153,154,155,157,158,159,161,162,163,165,166,167,169,170,171,173,174,175,177,178,181,185,189,193,195,197,201,205,207,209,213,217,221,223,225,227,229,233,235,237,241,312,316,317,318,319,320,321,322,323,324,325,326,327,328) have mixed types. Specify dtype option on import or set low_memory=False.\n",
      "  df = pd.read_csv(csv_path)\n"
     ]
    }
   ],
   "source": [
    "# Load the largest CSV into a pandas DataFrame\n",
    "csv_path = os.path.join(outdir, largest_csv_file)\n",
    "with zipfile.ZipFile(filename, 'r') as zip_ref:\n",
    "    zip_ref.extract(largest_csv_file, outdir)  # Extract the largest CSV file\n",
    "\n",
    "# Define dtype for the phone number column as string to avoid scientific notation\n",
    "dtype_spec = {\n",
    "    'Provider Business Mailing Address Telephone Number': str\n",
    "}\n",
    "\n",
    "\n",
    "df = pd.read_csv(csv_path)\n"
   ]
  },
  {
   "cell_type": "code",
   "execution_count": 30,
   "id": "837abb05",
   "metadata": {},
   "outputs": [
    {
     "name": "stdout",
     "output_type": "stream",
     "text": [
      "   Provider First Name Provider Last Name (Legal Name)  \\\n",
      "1           ALEXANDRIA                           BROWN   \n",
      "2             BRITTANY                           LEWIS   \n",
      "11             MELANIE                          LEVINE   \n",
      "12             RADHIKA                      TUMMINELLO   \n",
      "15            REGINALD                 NICHOLS-NKANSAH   \n",
      "\n",
      "   Provider Business Mailing Address State Name  \\\n",
      "1                                            IL   \n",
      "2                                            MI   \n",
      "11                                           CO   \n",
      "12                                           IL   \n",
      "15                                           LA   \n",
      "\n",
      "   Provider Business Mailing Address Telephone Number  \n",
      "1                                          6186588331  \n",
      "2                                          8557728847  \n",
      "11                                         7342194175  \n",
      "12                                         8663708206  \n",
      "15                                         6304330178  \n"
     ]
    }
   ],
   "source": [
    "# Explicitly convert the phone number column to string (if necessary)\n",
    "df['Provider Business Mailing Address Telephone Number'] = df['Provider Business Mailing Address Telephone Number'].astype(str).str.split('.').str[0]\n",
    "\n",
    "\n",
    "# Extract the required columns\n",
    "columns_needed = [\n",
    "    'Provider First Name',\n",
    "    'Provider Last Name (Legal Name)',\n",
    "    'Provider Business Mailing Address State Name',\n",
    "    'Provider Business Mailing Address Telephone Number'\n",
    "]\n",
    "# List of states to keep\n",
    "valid_states = ['AL', 'AR', 'CO', 'DE', 'FL', 'GA', 'IA', 'IL', 'IN', 'KS', 'KY', \n",
    "                'LA', 'MD', 'MO', 'MI', 'MT', 'NC', 'NE', 'NV', 'OH', 'OK', 'SC', \n",
    "                'SD', 'TN', 'TX', 'UT', 'WI', 'WV', 'WY']\n",
    "\n",
    "\n",
    "\n",
    "df_filtered = df[columns_needed]\n",
    "df_filtered = df_filtered[df_filtered['Provider Business Mailing Address Telephone Number'].str.strip() != 'nan']\n",
    "# Filter out rows where the state is not in the list\n",
    "df_filtered = df_filtered[df_filtered['Provider Business Mailing Address State Name'].isin(valid_states)]\n",
    "df_filtered = df_filtered.dropna(subset=['Provider Last Name (Legal Name)', 'Provider Business Mailing Address Telephone Number'])\n",
    "\n",
    "# Display or save the filtered data\n",
    "print(df_filtered.head())  # Display first few rows to verify\n",
    "\n"
   ]
  },
  {
   "cell_type": "code",
   "execution_count": 31,
   "id": "7bb09651",
   "metadata": {},
   "outputs": [],
   "source": [
    "# Save the filtered data to a new CSV\n",
    "df_filtered.to_csv(os.path.join(outdir, 'alexandra.csv'), index=False)"
   ]
  },
  {
   "cell_type": "code",
   "execution_count": 38,
   "id": "7964f7c0",
   "metadata": {},
   "outputs": [
    {
     "name": "stdout",
     "output_type": "stream",
     "text": [
      "HVAC technician;Montgomery\n",
      "plumber;Fort Smith\n",
      "financial advisor;Denver\n",
      "physical therapist;Dover\n",
      "lawyer;Jacksonville\n",
      "tax preparer;Columbus\n",
      "accountant;Des Moines\n",
      "roofing contractor;Chicago\n",
      "HVAC technician;Fort Wayne\n",
      "courier;Wichita\n",
      "acupuncturist;Bowling Green\n",
      "general contractor;New Orleans\n",
      "plumber;Columbia\n",
      "massage therapist;St. Louis\n",
      "marketing consultant;Warren\n",
      "massage therapist;Billings\n",
      "marketing consultant;Raleigh\n",
      "landscaper;Bellevue\n",
      "roofing contractor;Henderson\n",
      "bakery owner;Cincinnati\n",
      "personal trainer;Oklahoma City\n",
      "electrician;Columbia\n",
      "food truck owner;Sioux Falls\n",
      "florist;Nashville\n",
      "chiropractor;Houston\n",
      "nutritionist;West Valley City\n",
      "web developer;Green Bay\n",
      "financial advisor;Charleston\n",
      "IT consultant;Casper\n"
     ]
    }
   ],
   "source": [
    "import random\n",
    "\n",
    "\n",
    "business_types = [\n",
    "    \"chiropractor\", \"massage therapist\", \"acupuncturist\", \"physical therapist\",\n",
    "    \"speech therapist\", \"lawyer\", \"accountant\", \"tax preparer\", \"financial advisor\",\n",
    "    \"plumber\", \"electrician\", \"carpenter\", \"general contractor\",\n",
    "    \"HVAC technician\", \"roofing contractor\", \"landscaper\", \"barber\", \"hair salon\",\n",
    "    \"tattoo artist\", \"personal trainer\", \"nutritionist\", \"coffee shop owner\",\n",
    "    \"bakery owner\", \"food truck owner\", \"boutique owner\", \"florist\", \"truck driver\",\n",
    "    \"courier\", \"moving company owner\", \"freelance graphic designer\", \n",
    "    \"marketing consultant\", \"photographer\", \"videographer\", \"IT consultant\",\n",
    "    \"web developer\"\n",
    "]\n",
    "\n",
    "valid_states = {\n",
    "    'AL': ['Birmingham', 'Montgomery', 'Huntsville'],\n",
    "    'AR': ['Little Rock', 'Fort Smith', 'Fayetteville'],\n",
    "    'CO': ['Denver', 'Colorado Springs', 'Aurora'],\n",
    "    'DE': ['Wilmington', 'Dover', 'Newark'],\n",
    "    'FL': ['Jacksonville', 'Miami', 'Tampa'],\n",
    "    'GA': ['Atlanta', 'Augusta', 'Columbus'],\n",
    "    'IA': ['Des Moines', 'Cedar Rapids', 'Davenport'],\n",
    "    'IL': ['Chicago', 'Aurora', 'Naperville'],\n",
    "    'IN': ['Indianapolis', 'Fort Wayne', 'Evansville'],\n",
    "    'KS': ['Wichita', 'Overland Park', 'Kansas City'],\n",
    "    'KY': ['Louisville', 'Lexington', 'Bowling Green'],\n",
    "    'LA': ['New Orleans', 'Baton Rouge', 'Shreveport'],\n",
    "    'MD': ['Baltimore', 'Columbia', 'Germantown'],\n",
    "    'MO': ['Kansas City', 'St. Louis', 'Springfield'],\n",
    "    'MI': ['Detroit', 'Grand Rapids', 'Warren'],\n",
    "    'MT': ['Billings', 'Missoula', 'Great Falls'],\n",
    "    'NC': ['Charlotte', 'Raleigh', 'Greensboro'],\n",
    "    'NE': ['Omaha', 'Lincoln', 'Bellevue'],\n",
    "    'NV': ['Las Vegas', 'Henderson', 'Reno'],\n",
    "    'OH': ['Columbus', 'Cleveland', 'Cincinnati'],\n",
    "    'OK': ['Oklahoma City', 'Tulsa', 'Norman'],\n",
    "    'SC': ['Charleston', 'Columbia', 'North Charleston'],\n",
    "    'SD': ['Sioux Falls', 'Rapid City', 'Aberdeen'],\n",
    "    'TN': ['Nashville', 'Memphis', 'Knoxville'],\n",
    "    'TX': ['Houston', 'San Antonio', 'Dallas'],\n",
    "    'UT': ['Salt Lake City', 'West Valley City', 'Provo'],\n",
    "    'WI': ['Milwaukee', 'Madison', 'Green Bay'],\n",
    "    'WV': ['Charleston', 'Huntington', 'Morgantown'],\n",
    "    'WY': ['Cheyenne', 'Casper', 'Laramie']\n",
    "}\n",
    "\n",
    "# Generate and print the queries\n",
    "for state, cities in valid_states.items():\n",
    "    query = f\"{random.choice(business_types)};{random.choice(cities)}\"\n",
    "    print(query)\n"
   ]
  }
 ],
 "metadata": {
  "kernelspec": {
   "display_name": "Python 3",
   "language": "python",
   "name": "python3"
  },
  "language_info": {
   "codemirror_mode": {
    "name": "ipython",
    "version": 3
   },
   "file_extension": ".py",
   "mimetype": "text/x-python",
   "name": "python",
   "nbconvert_exporter": "python",
   "pygments_lexer": "ipython3",
   "version": "3.11.1"
  }
 },
 "nbformat": 4,
 "nbformat_minor": 5
}
